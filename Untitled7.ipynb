{
 "cells": [
  {
   "cell_type": "markdown",
   "id": "33a05a98-bfe8-4746-b60e-5d4ea7ba8081",
   "metadata": {},
   "source": [
    "Q1. Write a python program to extract the video URL of the first five videos."
   ]
  },
  {
   "cell_type": "code",
   "execution_count": null,
   "id": "c078d7be-3879-43e0-b2ec-45d66ee6889e",
   "metadata": {},
   "outputs": [],
   "source": [
    "import requests\n",
    "from bs4 import BeautifulSoup\n",
    "\n",
    "def get_video_urls(channel_url, num_videos=5):\n",
    "    response = requests.get(channel_url)\n",
    "    soup = BeautifulSoup(response.text, 'html.parser')\n",
    "\n",
    "    video_urls = []\n",
    "    video_elements = soup.find_all('a', {'id': 'video-title'})\n",
    "    \n",
    "    for i, video_element in enumerate(video_elements[:num_videos]):\n",
    "        video_url = 'https://www.youtube.com' + video_element['href']\n",
    "        video_urls.append(video_url)\n",
    "        print(f\"Video {i+1}: {video_url}\")\n",
    "\n",
    "    return video_urls\n",
    "\n",
    "# Replace 'https://www.youtube.com/@PW-Foundation/videos' with the actual channel URL\n",
    "channel_url = 'https://www.youtube.com/@PW-Foundation/videos'\n",
    "video_urls = get_video_urls(channel_url, num_videos=5)\n"
   ]
  },
  {
   "cell_type": "markdown",
   "id": "46adefbf-1687-4fa9-9bd6-448a5e7f9c6d",
   "metadata": {},
   "source": [
    "Q2. Write a python program to extract the URL of the video thumbnails of the first five videos.\n",
    "Ans:-To extract the URLs of the video thumbnails from the first five videos of a YouTube channel, you can use the same libraries, requests and BeautifulSoup"
   ]
  },
  {
   "cell_type": "code",
   "execution_count": null,
   "id": "b273f746-debe-4ebb-bb98-704f06d46653",
   "metadata": {},
   "outputs": [],
   "source": [
    "import requests\n",
    "from bs4 import BeautifulSoup\n",
    "\n",
    "def get_thumbnail_urls(channel_url, num_videos=5):\n",
    "    response = requests.get(channel_url)\n",
    "    soup = BeautifulSoup(response.text, 'html.parser')\n",
    "\n",
    "    thumbnail_urls = []\n",
    "    thumbnail_elements = soup.find_all('img', {'class': 'style-scope yt-img-shadow'})\n",
    "    \n",
    "    for i, thumbnail_element in enumerate(thumbnail_elements[:num_videos]):\n",
    "        thumbnail_url = thumbnail_element['src']\n",
    "        thumbnail_urls.append(thumbnail_url)\n",
    "        print(f\"Thumbnail {i+1}: {thumbnail_url}\")\n",
    "\n",
    "    return thumbnail_urls\n",
    "\n",
    "# Replace 'https://www.youtube.com/@PW-Foundation/videos' with the actual channel URL\n",
    "channel_url = 'https://www.youtube.com/@PW-Foundation/videos'\n",
    "thumbnail_urls = get_thumbnail_urls(channel_url, num_videos=5)\n"
   ]
  },
  {
   "cell_type": "markdown",
   "id": "a16ef0e1-5717-4e3d-b1c3-a553e6db34a6",
   "metadata": {},
   "source": [
    "Q3. Write a python program to extract the title of the first five videos."
   ]
  },
  {
   "cell_type": "code",
   "execution_count": null,
   "id": "298fd613-18d9-4957-aefd-cb306f50a28f",
   "metadata": {},
   "outputs": [],
   "source": [
    "import requests\n",
    "from bs4 import BeautifulSoup\n",
    "\n",
    "def get_video_titles(channel_url, num_videos=5):\n",
    "    response = requests.get(channel_url)\n",
    "    soup = BeautifulSoup(response.text, 'html.parser')\n",
    "\n",
    "    video_titles = []\n",
    "    title_elements = soup.find_all('a', {'id': 'video-title'})\n",
    "    \n",
    "    for i, title_element in enumerate(title_elements[:num_videos]):\n",
    "        video_title = title_element.text.strip()\n",
    "        video_titles.append(video_title)\n",
    "        print(f\"Video {i+1} Title: {video_title}\")\n",
    "\n",
    "    return video_titles\n",
    "\n",
    "# Replace 'https://www.youtube.com/@PW-Foundation/videos' with the actual channel URL\n",
    "channel_url = 'https://www.youtube.com/@PW-Foundation/videos'\n",
    "video_titles = get_video_titles(channel_url, num_videos=5)\n"
   ]
  },
  {
   "cell_type": "markdown",
   "id": "a6d99cde-4f92-4210-833d-9b2173fc7c28",
   "metadata": {},
   "source": [
    "Q4. Write a python program to extract the number of views of the first five videos."
   ]
  },
  {
   "cell_type": "code",
   "execution_count": null,
   "id": "d00e560d-cfb8-47cc-8977-4417deac137a",
   "metadata": {},
   "outputs": [],
   "source": [
    "import requests\n",
    "from bs4 import BeautifulSoup\n",
    "\n",
    "def get_video_info(channel_url, num_videos=5):\n",
    "    response = requests.get(channel_url)\n",
    "    soup = BeautifulSoup(response.text, 'html.parser')\n",
    "\n",
    "    video_info = []\n",
    "\n",
    "    # Finding elements that contain both title and view count\n",
    "    video_elements = soup.find_all('div', {'id': 'dismissible'})\n",
    "\n",
    "    for i, video_element in enumerate(video_elements[:num_videos]):\n",
    "        # Extracting title\n",
    "        title_element = video_element.find('a', {'id': 'video-title'})\n",
    "        video_title = title_element.text.strip()\n",
    "\n",
    "        # Extracting view count\n",
    "        view_count_element = video_element.find('span', {'class': 'style-scope ytd-video-meta-block'})\n",
    "        views = view_count_element.text.strip() if view_count_element else 'N/A'\n",
    "\n",
    "        video_info.append({'title': video_title, 'views': views})\n",
    "        print(f\"Video {i+1} - Title: {video_title}, Views: {views}\")\n",
    "\n",
    "    return video_info\n",
    "\n",
    "# Replace 'https://www.youtube.com/@PW-Foundation/videos' with the actual channel URL\n",
    "channel_url = 'https://www.youtube.com/@PW-Foundation/videos'\n",
    "video_info = get_video_info(channel_url, num_videos=5)\n"
   ]
  },
  {
   "cell_type": "markdown",
   "id": "0d2df9a1-696a-4c62-a31c-11917223f58f",
   "metadata": {},
   "source": [
    "Q5. Write a python program to extract the time of posting of video for the first five videos."
   ]
  }
 ],
 "metadata": {
  "kernelspec": {
   "display_name": "Python 3 (ipykernel)",
   "language": "python",
   "name": "python3"
  },
  "language_info": {
   "codemirror_mode": {
    "name": "ipython",
    "version": 3
   },
   "file_extension": ".py",
   "mimetype": "text/x-python",
   "name": "python",
   "nbconvert_exporter": "python",
   "pygments_lexer": "ipython3",
   "version": "3.12.0"
  }
 },
 "nbformat": 4,
 "nbformat_minor": 5
}
